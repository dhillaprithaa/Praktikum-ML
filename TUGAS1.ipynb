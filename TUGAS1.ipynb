{
  "nbformat": 4,
  "nbformat_minor": 0,
  "metadata": {
    "colab": {
      "provenance": []
    },
    "kernelspec": {
      "name": "python3",
      "display_name": "Python 3"
    },
    "language_info": {
      "name": "python"
    }
  },
  "cells": [
    {
      "cell_type": "markdown",
      "source": [],
      "metadata": {
        "id": "q7428MDw19e9"
      }
    },
    {
      "cell_type": "code",
      "source": [
        "import pandas as pd\n",
        "from pandas.plotting import scatter_matrix\n",
        "import matplotlib.pyplot as plt\n",
        "import seaborn as sns\n",
        "import numpy as np\n",
        "\n",
        "from sklearn import model_selection\n",
        "from sklearn.neighbors import KNeighborsClassifier\n",
        "from sklearn.naive_bayes import GaussianNB\n",
        "from sklearn.svm import SVC\n",
        "\n",
        "from sklearn.metrics import classification_report\n",
        "from sklearn.metrics import confusion_matrix\n",
        "from sklearn.metrics import accuracy_score\n"
      ],
      "metadata": {
        "id": "tovx3pyj1_WF"
      },
      "execution_count": 1,
      "outputs": []
    },
    {
      "cell_type": "markdown",
      "source": [
        "**membaca dataset dari URL,** Dataset yang digunakan adalah dataset Iris, yang berisi informasi tentang panjang dan lebar kelopak serta sepal (bagian bunga), dengan masing-masing data diklasifikasikan berdasarkan spesies bunga (Setosa, Versicolor, atau Virginica)."
      ],
      "metadata": {
        "id": "IlGoMi-M3HCQ"
      }
    },
    {
      "cell_type": "code",
      "source": [
        "import pandas as pd\n",
        "\n",
        "url = \"http://archive.ics.uci.edu/ml/machine-learning-databases/iris/iris.data\"\n",
        "names = ['sepal-length', 'sepal-width', 'petal-length', 'petal-width', 'class']\n",
        "dataset = pd.read_csv(url, names=names)\n"
      ],
      "metadata": {
        "id": "AhnHME932CLC"
      },
      "execution_count": 10,
      "outputs": []
    },
    {
      "cell_type": "markdown",
      "source": [
        "**Membuat daftar algoritma machine learning yang akan diuji atau dievaluasi.** Pertama, sebuah list kosong bernama models dibuat untuk menampung pasangan nama model dan objek modelnya. Selanjutnya, algoritma K-Nearest Neighbors (KNN) ditambahkan ke dalam list menggunakan fungsi append, dengan nama 'KNN' sebagai identitasnya dan KNeighborsClassifier() sebagai objek modelnya. Kemudian, algoritma Naive Bayes (NB) ditambahkan dengan nama 'NB' dan objek model GaussianNB(). Terakhir, algoritma Support Vector Machine (SVM) dimasukkan dengan nama 'SVM' dan objek model SVC()."
      ],
      "metadata": {
        "id": "ZNNMHf524Hdm"
      }
    },
    {
      "cell_type": "code",
      "source": [
        "# Spot Check Algorithms\n",
        "models = []\n",
        "models.append(('KNN', KNeighborsClassifier()))\n",
        "models.append(('NB', GaussianNB()))\n",
        "models.append(('SVM', SVC()))"
      ],
      "metadata": {
        "id": "SUUvXxeY2YjF"
      },
      "execution_count": 11,
      "outputs": []
    },
    {
      "cell_type": "markdown",
      "source": [
        "**Mengevaluasi performa setiap model dalam list models menggunakan cross-validation**  Untuk setiap model, hasil akurasi dihitung pada setiap fold, kemudian rata-rata akurasi dan deviasi standarnya dicetak. Hasil cross-validation disimpan ke dalam list results untuk analisis lebih lanjut, sementara nama model disimpan di list names. Evaluasi ini membantu membandingkan performa model secara konsisten pada data yang telah dibagi secara acak"
      ],
      "metadata": {
        "id": "Ia3j8SnY4wnW"
      }
    },
    {
      "cell_type": "code",
      "source": [
        "# Evaluate each model in turn\n",
        "results = []\n",
        "names = []\n",
        "\n",
        "for name, model in models:\n",
        "    # Set shuffle=True to enable shuffling before splitting into folds\n",
        "    kfold = model_selection.KFold(n_splits=10, random_state=seed, shuffle=True)\n",
        "    cv_results = model_selection.cross_val_score(model, X_train, Y_train, cv=kfold, scoring=scoring)\n",
        "    results.append(cv_results)\n",
        "    names.append(name)\n",
        "    msg = \"%s: %f (%f)\" % (name, cv_results.mean(), cv_results.std())\n",
        "    print(msg)\n"
      ],
      "metadata": {
        "colab": {
          "base_uri": "https://localhost:8080/"
        },
        "id": "5lUIADIz2byH",
        "outputId": "1d2dceb8-9f9f-413d-f76c-163508f49c4b"
      },
      "execution_count": 12,
      "outputs": [
        {
          "output_type": "stream",
          "name": "stdout",
          "text": [
            "KNN: 0.983333 (0.033333)\n",
            "NB: 0.966667 (0.040825)\n",
            "SVM: 0.983333 (0.033333)\n"
          ]
        }
      ]
    },
    {
      "cell_type": "markdown",
      "source": [
        "**model SVM** dengan data training, memprediksi data validasi, dan mengevaluasi performanya menggunakan akurasi, matriks kebingungan, dan laporan klasifikasi untuk memahami kualitas prediksi model."
      ],
      "metadata": {
        "id": "_ECvIIQV5Pau"
      }
    },
    {
      "cell_type": "code",
      "source": [
        "# Make predictions on validation dataset\n",
        "svm = SVC()\n",
        "svm.fit(X_train, Y_train)\n",
        "predictions = svm.predict(X_validation)\n",
        "print(accuracy_score(Y_validation, predictions))\n",
        "print(confusion_matrix(Y_validation, predictions))\n",
        "print(classification_report(Y_validation, predictions))\n"
      ],
      "metadata": {
        "colab": {
          "base_uri": "https://localhost:8080/"
        },
        "id": "ZKNg1Bj-2dhT",
        "outputId": "3f35d559-34e3-4abb-afd4-e33090bf79ab"
      },
      "execution_count": 13,
      "outputs": [
        {
          "output_type": "stream",
          "name": "stdout",
          "text": [
            "0.8666666666666667\n",
            "[[ 7  0  0]\n",
            " [ 0 10  2]\n",
            " [ 0  2  9]]\n",
            "                 precision    recall  f1-score   support\n",
            "\n",
            "    Iris-setosa       1.00      1.00      1.00         7\n",
            "Iris-versicolor       0.83      0.83      0.83        12\n",
            " Iris-virginica       0.82      0.82      0.82        11\n",
            "\n",
            "       accuracy                           0.87        30\n",
            "      macro avg       0.88      0.88      0.88        30\n",
            "   weighted avg       0.87      0.87      0.87        30\n",
            "\n"
          ]
        }
      ]
    },
    {
      "cell_type": "markdown",
      "source": [
        "** model KNN,** melatih dan memprediksi data menggunakan SVM secara tidak konsisten. Model SVM dilatih pada data training dan memprediksi kelas data validasi. Hasil evaluasi performa meliputi akurasi, matriks kebingungan, dan laporan klasifikasi untuk memahami kemampuan model."
      ],
      "metadata": {
        "id": "ypD17vHJ5oL_"
      }
    },
    {
      "cell_type": "code",
      "source": [
        "# Make predictions on validation dataset\n",
        "KNN = KNeighborsClassifier()\n",
        "svm.fit(X_train, Y_train)\n",
        "predictions = svm.predict(X_validation)\n",
        "print(accuracy_score(Y_validation, predictions))\n",
        "print(confusion_matrix(Y_validation, predictions))\n",
        "print(classification_report(Y_validation, predictions))"
      ],
      "metadata": {
        "colab": {
          "base_uri": "https://localhost:8080/"
        },
        "id": "anZNHAAp2hBq",
        "outputId": "5dc4be03-e59e-4417-d84c-0c0c455b11d8"
      },
      "execution_count": 8,
      "outputs": [
        {
          "output_type": "stream",
          "name": "stdout",
          "text": [
            "0.8666666666666667\n",
            "[[ 7  0  0]\n",
            " [ 0 10  2]\n",
            " [ 0  2  9]]\n",
            "                 precision    recall  f1-score   support\n",
            "\n",
            "    Iris-setosa       1.00      1.00      1.00         7\n",
            "Iris-versicolor       0.83      0.83      0.83        12\n",
            " Iris-virginica       0.82      0.82      0.82        11\n",
            "\n",
            "       accuracy                           0.87        30\n",
            "      macro avg       0.88      0.88      0.88        30\n",
            "   weighted avg       0.87      0.87      0.87        30\n",
            "\n"
          ]
        }
      ]
    },
    {
      "cell_type": "markdown",
      "source": [
        "**model Naive Bayes (GaussianNB) **menggunakan data training (X_train, Y_train), kemudian memprediksi kelas data validasi (X_validation). Hasil prediksi dievaluasi dengan menghitung akurasi, menampilkan matriks kebingungan, dan laporan klasifikasi untuk melihat performa model."
      ],
      "metadata": {
        "id": "O_ZCoAcD56nW"
      }
    },
    {
      "cell_type": "code",
      "source": [
        "nb = GaussianNB()\n",
        "nb.fit(X_train, Y_train)\n",
        "predictions = nb.predict(X_validation)\n",
        "print(accuracy_score(Y_validation, predictions))\n",
        "print(confusion_matrix(Y_validation, predictions))\n",
        "print(classification_report(Y_validation, predictions))"
      ],
      "metadata": {
        "colab": {
          "base_uri": "https://localhost:8080/"
        },
        "id": "SRzRCYA92jig",
        "outputId": "28e36056-9940-40e7-8fb2-35c81ae69cba"
      },
      "execution_count": 9,
      "outputs": [
        {
          "output_type": "stream",
          "name": "stdout",
          "text": [
            "0.8333333333333334\n",
            "[[7 0 0]\n",
            " [0 9 3]\n",
            " [0 2 9]]\n",
            "                 precision    recall  f1-score   support\n",
            "\n",
            "    Iris-setosa       1.00      1.00      1.00         7\n",
            "Iris-versicolor       0.82      0.75      0.78        12\n",
            " Iris-virginica       0.75      0.82      0.78        11\n",
            "\n",
            "       accuracy                           0.83        30\n",
            "      macro avg       0.86      0.86      0.86        30\n",
            "   weighted avg       0.84      0.83      0.83        30\n",
            "\n"
          ]
        }
      ]
    },
    {
      "cell_type": "markdown",
      "source": [
        "**KESIMPULAN :**\n",
        "Dari ketiga model, SVM biasanya memiliki akurasi lebih tinggi pada dataset yang terpisah secara linear seperti Iris, berkat kemampuan mencari hyperplane optimal. KNN memberikan akurasi yang kompetitif, tetapi performanya dapat dipengaruhi oleh jumlah tetangga (k) dan distribusi data. Naive Bayes sering memiliki akurasi sedikit lebih rendah karena asumsi distribusi normalnya, tetapi tetap andal dan cepat untuk data sederhana. Evaluasi tambahan seperti matriks kebingungan dan laporan klasifikasi menunjukkan bahwa SVM sering lebih konsisten dalam mengklasifikasikan semua kelas."
      ],
      "metadata": {
        "id": "YlPqryjV5_65"
      }
    }
  ]
}